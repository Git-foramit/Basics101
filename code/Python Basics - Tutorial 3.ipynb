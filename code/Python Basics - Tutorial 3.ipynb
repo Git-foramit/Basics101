{
 "cells": [
  {
   "cell_type": "markdown",
   "id": "dd8a4386",
   "metadata": {},
   "source": [
    "# Sets"
   ]
  },
  {
   "cell_type": "code",
   "execution_count": 1,
   "id": "105ba4e5",
   "metadata": {},
   "outputs": [],
   "source": [
    "# Defining an empty set"
   ]
  },
  {
   "cell_type": "code",
   "execution_count": 2,
   "id": "1420cfbb",
   "metadata": {},
   "outputs": [
    {
     "name": "stdout",
     "output_type": "stream",
     "text": [
      "set()\n",
      "<class 'set'>\n"
     ]
    }
   ],
   "source": [
    "set_var=set()\n",
    "print(set_var)\n",
    "print(type(set_var))"
   ]
  },
  {
   "cell_type": "code",
   "execution_count": 3,
   "id": "139935a9",
   "metadata": {},
   "outputs": [
    {
     "name": "stdout",
     "output_type": "stream",
     "text": [
      "{'Ironman', 'Avengers', 'Hulk'}\n"
     ]
    },
    {
     "data": {
      "text/plain": [
       "set"
      ]
     },
     "execution_count": 3,
     "metadata": {},
     "output_type": "execute_result"
    }
   ],
   "source": [
    "set_var={'Avengers','Ironman','Hulk'}\n",
    "print(set_var)\n",
    "type(set_var)"
   ]
  },
  {
   "cell_type": "code",
   "execution_count": 4,
   "id": "d2f746d6",
   "metadata": {},
   "outputs": [],
   "source": [
    "# For finding inbuild set functions in python, use tab key after writing variable name. e.g. (set_var.)\n",
    "\n",
    "set_var.add('Spiderman')"
   ]
  },
  {
   "cell_type": "code",
   "execution_count": 5,
   "id": "25a47f24",
   "metadata": {},
   "outputs": [
    {
     "data": {
      "text/plain": [
       "{'Avengers', 'Hulk', 'Ironman', 'Spiderman'}"
      ]
     },
     "execution_count": 5,
     "metadata": {},
     "output_type": "execute_result"
    }
   ],
   "source": [
    "set_var"
   ]
  },
  {
   "cell_type": "code",
   "execution_count": 6,
   "id": "64a6947f",
   "metadata": {},
   "outputs": [
    {
     "data": {
      "text/plain": [
       "{1, 2, 3, 4}"
      ]
     },
     "execution_count": 6,
     "metadata": {},
     "output_type": "execute_result"
    }
   ],
   "source": [
    "set_nu={1,2,3,4,2}\n",
    "set_nu"
   ]
  },
  {
   "cell_type": "markdown",
   "id": "1b8503ef",
   "metadata": {},
   "source": [
    "# Indexing in set is not supported\n"
   ]
  },
  {
   "cell_type": "code",
   "execution_count": 7,
   "id": "2a48ab2e",
   "metadata": {},
   "outputs": [
    {
     "ename": "TypeError",
     "evalue": "'set' object is not subscriptable",
     "output_type": "error",
     "traceback": [
      "\u001b[1;31m---------------------------------------------------------------------------\u001b[0m",
      "\u001b[1;31mTypeError\u001b[0m                                 Traceback (most recent call last)",
      "Input \u001b[1;32mIn [7]\u001b[0m, in \u001b[0;36m<cell line: 1>\u001b[1;34m()\u001b[0m\n\u001b[1;32m----> 1\u001b[0m \u001b[43mset_var\u001b[49m\u001b[43m[\u001b[49m\u001b[38;5;124;43m'\u001b[39;49m\u001b[38;5;124;43mAvengers\u001b[39;49m\u001b[38;5;124;43m'\u001b[39;49m\u001b[43m]\u001b[49m\n",
      "\u001b[1;31mTypeError\u001b[0m: 'set' object is not subscriptable"
     ]
    }
   ],
   "source": [
    "set_var['Avengers']"
   ]
  },
  {
   "cell_type": "code",
   "execution_count": 8,
   "id": "a4972137",
   "metadata": {},
   "outputs": [
    {
     "ename": "TypeError",
     "evalue": "'set' object is not subscriptable",
     "output_type": "error",
     "traceback": [
      "\u001b[1;31m---------------------------------------------------------------------------\u001b[0m",
      "\u001b[1;31mTypeError\u001b[0m                                 Traceback (most recent call last)",
      "Input \u001b[1;32mIn [8]\u001b[0m, in \u001b[0;36m<cell line: 1>\u001b[1;34m()\u001b[0m\n\u001b[1;32m----> 1\u001b[0m \u001b[43mset_var\u001b[49m\u001b[43m[\u001b[49m\u001b[38;5;241;43m0\u001b[39;49m\u001b[43m]\u001b[49m\n",
      "\u001b[1;31mTypeError\u001b[0m: 'set' object is not subscriptable"
     ]
    }
   ],
   "source": [
    "set_var[0]"
   ]
  },
  {
   "cell_type": "markdown",
   "id": "63e3050b",
   "metadata": {},
   "source": [
    "# Inbuild function in set"
   ]
  },
  {
   "cell_type": "code",
   "execution_count": 9,
   "id": "03f128bb",
   "metadata": {},
   "outputs": [],
   "source": [
    "set1={'Avengers','Ironman'}\n",
    "set2={'Avengers','Ironman','Hulk'}"
   ]
  },
  {
   "cell_type": "code",
   "execution_count": 10,
   "id": "fe7e190c",
   "metadata": {},
   "outputs": [
    {
     "data": {
      "text/plain": [
       "{'Avengers', 'Ironman'}"
      ]
     },
     "execution_count": 10,
     "metadata": {},
     "output_type": "execute_result"
    }
   ],
   "source": [
    "set2.intersection(set1)"
   ]
  },
  {
   "cell_type": "code",
   "execution_count": 11,
   "id": "571c2b1e",
   "metadata": {},
   "outputs": [
    {
     "data": {
      "text/plain": [
       "{'Avengers', 'Ironman'}"
      ]
     },
     "execution_count": 11,
     "metadata": {},
     "output_type": "execute_result"
    }
   ],
   "source": [
    "set1"
   ]
  },
  {
   "cell_type": "code",
   "execution_count": 12,
   "id": "29d835d4",
   "metadata": {},
   "outputs": [
    {
     "data": {
      "text/plain": [
       "{'Avengers', 'Hulk', 'Ironman'}"
      ]
     },
     "execution_count": 12,
     "metadata": {},
     "output_type": "execute_result"
    }
   ],
   "source": [
    "set2"
   ]
  },
  {
   "cell_type": "code",
   "execution_count": 16,
   "id": "8551235a",
   "metadata": {},
   "outputs": [],
   "source": [
    "set2.intersection_update(set1) #In this case set2 value will be updated"
   ]
  },
  {
   "cell_type": "code",
   "execution_count": 17,
   "id": "4a98bbb8",
   "metadata": {},
   "outputs": [
    {
     "data": {
      "text/plain": [
       "{'Avengers', 'Ironman'}"
      ]
     },
     "execution_count": 17,
     "metadata": {},
     "output_type": "execute_result"
    }
   ],
   "source": [
    "set1"
   ]
  },
  {
   "cell_type": "code",
   "execution_count": 18,
   "id": "4aba4361",
   "metadata": {},
   "outputs": [
    {
     "data": {
      "text/plain": [
       "{'Avengers', 'Ironman'}"
      ]
     },
     "execution_count": 18,
     "metadata": {},
     "output_type": "execute_result"
    }
   ],
   "source": [
    "set2"
   ]
  },
  {
   "cell_type": "markdown",
   "id": "bff3534d",
   "metadata": {},
   "source": [
    "# Dictionaries \n",
    "\n",
    "Dictionary is a collected which is unordered, changeable and indexed. Dictionary is a KEY-VALUE pair.\n",
    "Dictionary - use curly braces when creating a dictionary"
   ]
  },
  {
   "cell_type": "code",
   "execution_count": 21,
   "id": "59e79e06",
   "metadata": {},
   "outputs": [],
   "source": [
    "dic={}"
   ]
  },
  {
   "cell_type": "code",
   "execution_count": 22,
   "id": "a12e54c0",
   "metadata": {},
   "outputs": [
    {
     "data": {
      "text/plain": [
       "dict"
      ]
     },
     "execution_count": 22,
     "metadata": {},
     "output_type": "execute_result"
    }
   ],
   "source": [
    "type(dic)"
   ]
  },
  {
   "cell_type": "code",
   "execution_count": 24,
   "id": "a93b6a69",
   "metadata": {},
   "outputs": [],
   "source": [
    "# Create a dictionary\n",
    "\n",
    "my_dict={'Car1':'Audi', 'Car2':'BMW', 'Car3':'Volkswagen'}"
   ]
  },
  {
   "cell_type": "code",
   "execution_count": 25,
   "id": "f308c4c3",
   "metadata": {},
   "outputs": [
    {
     "data": {
      "text/plain": [
       "dict"
      ]
     },
     "execution_count": 25,
     "metadata": {},
     "output_type": "execute_result"
    }
   ],
   "source": [
    "type(my_dict)"
   ]
  },
  {
   "cell_type": "markdown",
   "id": "ca6e7a6a",
   "metadata": {},
   "source": [
    "# Indexing in Dictionaries - Based on Key Value pair not on numbers like 0,1,2,...."
   ]
  },
  {
   "cell_type": "code",
   "execution_count": 27,
   "id": "e6917540",
   "metadata": {},
   "outputs": [
    {
     "data": {
      "text/plain": [
       "'Audi'"
      ]
     },
     "execution_count": 27,
     "metadata": {},
     "output_type": "execute_result"
    }
   ],
   "source": [
    "my_dict['Car1']"
   ]
  },
  {
   "cell_type": "code",
   "execution_count": 28,
   "id": "b315041a",
   "metadata": {},
   "outputs": [
    {
     "name": "stdout",
     "output_type": "stream",
     "text": [
      "Car1\n",
      "Car2\n",
      "Car3\n"
     ]
    }
   ],
   "source": [
    "for x in my_dict:\n",
    "    print(x)"
   ]
  },
  {
   "cell_type": "code",
   "execution_count": 33,
   "id": "ce26c74e",
   "metadata": {},
   "outputs": [
    {
     "name": "stdout",
     "output_type": "stream",
     "text": [
      "Audi\n",
      "BMW\n",
      "Volkswagen\n"
     ]
    }
   ],
   "source": [
    "# Looping through dictionayry values\n",
    "for x in my_dict.values():\n",
    "    print(x)"
   ]
  },
  {
   "cell_type": "code",
   "execution_count": 34,
   "id": "3921c499",
   "metadata": {},
   "outputs": [
    {
     "name": "stdout",
     "output_type": "stream",
     "text": [
      "('Car1', 'Audi')\n",
      "('Car2', 'BMW')\n",
      "('Car3', 'Volkswagen')\n"
     ]
    }
   ],
   "source": [
    "# Find both keys and values together\n",
    "\n",
    "for x in my_dict.items():\n",
    "    print(x)"
   ]
  },
  {
   "cell_type": "code",
   "execution_count": 38,
   "id": "983ec1d3",
   "metadata": {},
   "outputs": [
    {
     "name": "stdout",
     "output_type": "stream",
     "text": [
      "Dictionary searched and Car is: Car3\n"
     ]
    }
   ],
   "source": [
    "# Search in dictionary\n",
    "# example searching for how to get the key \n",
    "# key of Volkswagen i.e. we are searching for key pair of Volkswagen\n",
    "result= dict((new_val,new_k) for new_k,new_val in my_dict.items()).get('Volkswagen')\n",
    "print('Dictionary searched and Car is:', result)"
   ]
  },
  {
   "cell_type": "code",
   "execution_count": 40,
   "id": "1f1b8ce8",
   "metadata": {},
   "outputs": [
    {
     "name": "stdout",
     "output_type": "stream",
     "text": [
      "Value of Car3 is Volkswagen\n"
     ]
    }
   ],
   "source": [
    "# example searching for how to get value \n",
    "\n",
    "result= dict((new_k,new_val) for new_k,new_val in my_dict.items()).get('Car3')\n",
    "print('Value of Car3 is', result)"
   ]
  },
  {
   "cell_type": "code",
   "execution_count": 41,
   "id": "62132517",
   "metadata": {},
   "outputs": [],
   "source": [
    "# Adding values in dictionaries\n"
   ]
  },
  {
   "cell_type": "code",
   "execution_count": 42,
   "id": "1811817e",
   "metadata": {},
   "outputs": [],
   "source": [
    "my_dict['Car4']='Maruti'"
   ]
  },
  {
   "cell_type": "code",
   "execution_count": 43,
   "id": "d2e7b93a",
   "metadata": {},
   "outputs": [
    {
     "data": {
      "text/plain": [
       "{'Car1': 'Audi', 'Car2': 'BMW', 'Car3': 'Volkswagen', 'Car4': 'Maruti'}"
      ]
     },
     "execution_count": 43,
     "metadata": {},
     "output_type": "execute_result"
    }
   ],
   "source": [
    "my_dict"
   ]
  },
  {
   "cell_type": "code",
   "execution_count": 44,
   "id": "a976d4d9",
   "metadata": {},
   "outputs": [],
   "source": [
    "# Directly change value to previousy assigned key value pair"
   ]
  },
  {
   "cell_type": "code",
   "execution_count": 45,
   "id": "79672f30",
   "metadata": {},
   "outputs": [],
   "source": [
    "my_dict['Car1']='Mercedez Benz'"
   ]
  },
  {
   "cell_type": "code",
   "execution_count": 46,
   "id": "dfeed32c",
   "metadata": {},
   "outputs": [
    {
     "data": {
      "text/plain": [
       "{'Car1': 'Mercedez Benz',\n",
       " 'Car2': 'BMW',\n",
       " 'Car3': 'Volkswagen',\n",
       " 'Car4': 'Maruti'}"
      ]
     },
     "execution_count": 46,
     "metadata": {},
     "output_type": "execute_result"
    }
   ],
   "source": [
    "my_dict"
   ]
  },
  {
   "cell_type": "markdown",
   "id": "69f5b78d",
   "metadata": {},
   "source": [
    "# Nested Dictionary"
   ]
  },
  {
   "cell_type": "code",
   "execution_count": 47,
   "id": "401152df",
   "metadata": {},
   "outputs": [],
   "source": [
    "car1_model={'Mercedes':1960}"
   ]
  },
  {
   "cell_type": "code",
   "execution_count": 48,
   "id": "69d9c845",
   "metadata": {},
   "outputs": [],
   "source": [
    "car2_model={'Maruti':1990}"
   ]
  },
  {
   "cell_type": "code",
   "execution_count": 49,
   "id": "be2d2aaf",
   "metadata": {},
   "outputs": [],
   "source": [
    "car3_model={'Audi':1970}"
   ]
  },
  {
   "cell_type": "code",
   "execution_count": 50,
   "id": "c81c1ae7",
   "metadata": {},
   "outputs": [],
   "source": [
    "car_type={'car1':car1_model,'car2':car2_model,'car3':car3_model}"
   ]
  },
  {
   "cell_type": "code",
   "execution_count": 51,
   "id": "03b72469",
   "metadata": {},
   "outputs": [
    {
     "name": "stdout",
     "output_type": "stream",
     "text": [
      "{'car1': {'Mercedes': 1960}, 'car2': {'Maruti': 1990}, 'car3': {'Audi': 1970}}\n"
     ]
    }
   ],
   "source": [
    "print(car_type)"
   ]
  },
  {
   "cell_type": "code",
   "execution_count": 52,
   "id": "709d7d95",
   "metadata": {},
   "outputs": [
    {
     "data": {
      "text/plain": [
       "dict"
      ]
     },
     "execution_count": 52,
     "metadata": {},
     "output_type": "execute_result"
    }
   ],
   "source": [
    "type(car_type)"
   ]
  },
  {
   "cell_type": "code",
   "execution_count": 53,
   "id": "13fadfee",
   "metadata": {},
   "outputs": [],
   "source": [
    "# Accesing the item in nested dictionary"
   ]
  },
  {
   "cell_type": "code",
   "execution_count": 54,
   "id": "8092b5be",
   "metadata": {},
   "outputs": [
    {
     "name": "stdout",
     "output_type": "stream",
     "text": [
      "{'Mercedes': 1960}\n"
     ]
    }
   ],
   "source": [
    "print(car_type['car1'])"
   ]
  },
  {
   "cell_type": "code",
   "execution_count": 55,
   "id": "1c8098e8",
   "metadata": {},
   "outputs": [
    {
     "name": "stdout",
     "output_type": "stream",
     "text": [
      "1990\n"
     ]
    }
   ],
   "source": [
    "print(car_type['car2']['Maruti'])"
   ]
  },
  {
   "cell_type": "markdown",
   "id": "cfadfaf5",
   "metadata": {},
   "source": [
    "# Searching in Nested Dictionary -? \n",
    "How to do this, search internet and implement it"
   ]
  },
  {
   "cell_type": "markdown",
   "id": "53fdbc92",
   "metadata": {},
   "source": [
    "# Tuples"
   ]
  },
  {
   "cell_type": "code",
   "execution_count": 66,
   "id": "42415900",
   "metadata": {},
   "outputs": [],
   "source": [
    "# You can't change the value of single element in tuple but need to change complete tuple \n"
   ]
  },
  {
   "cell_type": "code",
   "execution_count": 67,
   "id": "e2471f6f",
   "metadata": {},
   "outputs": [],
   "source": [
    "my_tuple=tuple()"
   ]
  },
  {
   "cell_type": "code",
   "execution_count": 68,
   "id": "6352b378",
   "metadata": {},
   "outputs": [
    {
     "data": {
      "text/plain": [
       "tuple"
      ]
     },
     "execution_count": 68,
     "metadata": {},
     "output_type": "execute_result"
    }
   ],
   "source": [
    "type(my_tuple)"
   ]
  },
  {
   "cell_type": "code",
   "execution_count": 69,
   "id": "e004f3f4",
   "metadata": {},
   "outputs": [],
   "source": [
    "my_tuple=()"
   ]
  },
  {
   "cell_type": "code",
   "execution_count": 70,
   "id": "51b2ebab",
   "metadata": {},
   "outputs": [
    {
     "data": {
      "text/plain": [
       "tuple"
      ]
     },
     "execution_count": 70,
     "metadata": {},
     "output_type": "execute_result"
    }
   ],
   "source": [
    "type(my_tuple)"
   ]
  },
  {
   "cell_type": "code",
   "execution_count": 71,
   "id": "752f4752",
   "metadata": {},
   "outputs": [],
   "source": [
    "my_tuple=('Amit','Joshi','Welcome')"
   ]
  },
  {
   "cell_type": "markdown",
   "id": "510bac83",
   "metadata": {},
   "source": [
    "# Only two functions are there in tuple"
   ]
  },
  {
   "cell_type": "code",
   "execution_count": 74,
   "id": "59369e46",
   "metadata": {},
   "outputs": [
    {
     "data": {
      "text/plain": [
       "1"
      ]
     },
     "execution_count": 74,
     "metadata": {},
     "output_type": "execute_result"
    }
   ],
   "source": [
    "\n",
    "my_tuple.count('Welcome')"
   ]
  },
  {
   "cell_type": "code",
   "execution_count": 75,
   "id": "2a44ee27",
   "metadata": {},
   "outputs": [
    {
     "data": {
      "text/plain": [
       "2"
      ]
     },
     "execution_count": 75,
     "metadata": {},
     "output_type": "execute_result"
    }
   ],
   "source": [
    "my_tuple.index('Welcome')"
   ]
  },
  {
   "cell_type": "code",
   "execution_count": null,
   "id": "b2aab9b5",
   "metadata": {},
   "outputs": [],
   "source": []
  }
 ],
 "metadata": {
  "kernelspec": {
   "display_name": "dummy-aibse-dev",
   "language": "python",
   "name": "dummy-aibse-dev"
  },
  "language_info": {
   "codemirror_mode": {
    "name": "ipython",
    "version": 3
   },
   "file_extension": ".py",
   "mimetype": "text/x-python",
   "name": "python",
   "nbconvert_exporter": "python",
   "pygments_lexer": "ipython3",
   "version": "3.8.13"
  }
 },
 "nbformat": 4,
 "nbformat_minor": 5
}
