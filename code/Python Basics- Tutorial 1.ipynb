{
 "cells": [
  {
   "cell_type": "markdown",
   "id": "4c16e909",
   "metadata": {},
   "source": [
    "# Python Tutorial"
   ]
  },
  {
   "cell_type": "code",
   "execution_count": 1,
   "id": "83c7ec39",
   "metadata": {},
   "outputs": [],
   "source": [
    "#For printing we can use .format"
   ]
  },
  {
   "cell_type": "code",
   "execution_count": 2,
   "id": "4d2d8ed1",
   "metadata": {},
   "outputs": [
    {
     "name": "stdout",
     "output_type": "stream",
     "text": [
      "Hello\n"
     ]
    }
   ],
   "source": [
    "print(\"Hello\")"
   ]
  },
  {
   "cell_type": "code",
   "execution_count": 3,
   "id": "b71f34b4",
   "metadata": {},
   "outputs": [],
   "source": [
    "first_name='Amit'\n",
    "last_name='Joshi'"
   ]
  },
  {
   "cell_type": "code",
   "execution_count": 4,
   "id": "fc581312",
   "metadata": {},
   "outputs": [
    {
     "name": "stdout",
     "output_type": "stream",
     "text": [
      "My first name is Amit and last name is Joshi\n"
     ]
    }
   ],
   "source": [
    "print('My first name is {} and last name is {}'.format(first_name,last_name))"
   ]
  },
  {
   "cell_type": "code",
   "execution_count": 5,
   "id": "2409f68f",
   "metadata": {},
   "outputs": [
    {
     "name": "stdout",
     "output_type": "stream",
     "text": [
      "My first name is Amit and last name is Joshi\n"
     ]
    }
   ],
   "source": [
    "print('My first name is {first} and last name is {last}'.format(last=last_name,first=first_name))"
   ]
  },
  {
   "cell_type": "code",
   "execution_count": 6,
   "id": "e7dd1cfc",
   "metadata": {},
   "outputs": [
    {
     "data": {
      "text/plain": [
       "4"
      ]
     },
     "execution_count": 6,
     "metadata": {},
     "output_type": "execute_result"
    }
   ],
   "source": [
    "len('Amit')"
   ]
  },
  {
   "cell_type": "code",
   "execution_count": 7,
   "id": "1db51636",
   "metadata": {},
   "outputs": [
    {
     "data": {
      "text/plain": [
       "10"
      ]
     },
     "execution_count": 7,
     "metadata": {},
     "output_type": "execute_result"
    }
   ],
   "source": [
    "len('Amit Joshi')"
   ]
  },
  {
   "cell_type": "code",
   "execution_count": 8,
   "id": "2255bba9",
   "metadata": {},
   "outputs": [
    {
     "data": {
      "text/plain": [
       "float"
      ]
     },
     "execution_count": 8,
     "metadata": {},
     "output_type": "execute_result"
    }
   ],
   "source": [
    "type(9.0)"
   ]
  },
  {
   "cell_type": "code",
   "execution_count": 9,
   "id": "25554344",
   "metadata": {},
   "outputs": [
    {
     "data": {
      "text/plain": [
       "list"
      ]
     },
     "execution_count": 9,
     "metadata": {},
     "output_type": "execute_result"
    }
   ],
   "source": [
    "type(['1','2'])"
   ]
  },
  {
   "cell_type": "code",
   "execution_count": null,
   "id": "afed29be",
   "metadata": {},
   "outputs": [],
   "source": []
  }
 ],
 "metadata": {
  "kernelspec": {
   "display_name": "dummy-aibse-dev",
   "language": "python",
   "name": "dummy-aibse-dev"
  },
  "language_info": {
   "codemirror_mode": {
    "name": "ipython",
    "version": 3
   },
   "file_extension": ".py",
   "mimetype": "text/x-python",
   "name": "python",
   "nbconvert_exporter": "python",
   "pygments_lexer": "ipython3",
   "version": "3.8.13"
  }
 },
 "nbformat": 4,
 "nbformat_minor": 5
}
