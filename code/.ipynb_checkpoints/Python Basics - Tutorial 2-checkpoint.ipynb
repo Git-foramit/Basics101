{
 "cells": [
  {
   "cell_type": "markdown",
   "id": "6a43a201",
   "metadata": {},
   "source": [
    "# Python Data Structures and Boolean\n",
    " \n",
    "    Boolean \n",
    "    Boolean and Logical Operation \n",
    "    Lists\n",
    "    Comparision Operators\n",
    "    Dictionaries\n",
    "    Tuples\n",
    "    Sets"
   ]
  },
  {
   "cell_type": "code",
   "execution_count": 1,
   "id": "773c56e7",
   "metadata": {},
   "outputs": [
    {
     "name": "stdout",
     "output_type": "stream",
     "text": [
      "True False\n"
     ]
    }
   ],
   "source": [
    "print(True,False)"
   ]
  },
  {
   "cell_type": "code",
   "execution_count": 2,
   "id": "b8b58729",
   "metadata": {},
   "outputs": [
    {
     "data": {
      "text/plain": [
       "False"
      ]
     },
     "execution_count": 2,
     "metadata": {},
     "output_type": "execute_result"
    }
   ],
   "source": [
    "bool()"
   ]
  },
  {
   "cell_type": "code",
   "execution_count": 3,
   "id": "7250d79c",
   "metadata": {},
   "outputs": [
    {
     "data": {
      "text/plain": [
       "bool"
      ]
     },
     "execution_count": 3,
     "metadata": {},
     "output_type": "execute_result"
    }
   ],
   "source": [
    "type(True)"
   ]
  },
  {
   "cell_type": "code",
   "execution_count": 4,
   "id": "615ca421",
   "metadata": {},
   "outputs": [],
   "source": [
    "new_str=\"Amit Joshi\""
   ]
  },
  {
   "cell_type": "code",
   "execution_count": 5,
   "id": "a19dc354",
   "metadata": {},
   "outputs": [
    {
     "name": "stdout",
     "output_type": "stream",
     "text": [
      "False\n",
      "True\n",
      "False\n"
     ]
    }
   ],
   "source": [
    "#Inbuild string functions available\n",
    "print(new_str.isalpha())\n",
    "print(new_str.istitle())\n",
    "print(new_str.isdigit())"
   ]
  },
  {
   "cell_type": "code",
   "execution_count": 6,
   "id": "836f2ba8",
   "metadata": {},
   "outputs": [
    {
     "name": "stdout",
     "output_type": "stream",
     "text": [
      "False\n"
     ]
    }
   ],
   "source": [
    "print(new_str.isalpha())"
   ]
  },
  {
   "cell_type": "code",
   "execution_count": 7,
   "id": "575511f6",
   "metadata": {},
   "outputs": [
    {
     "name": "stdout",
     "output_type": "stream",
     "text": [
      "True\n",
      "False\n"
     ]
    }
   ],
   "source": [
    "print(new_str.endswith('i'))\n",
    "print(new_str.startswith('a'))"
   ]
  },
  {
   "cell_type": "code",
   "execution_count": 8,
   "id": "162b93a9",
   "metadata": {},
   "outputs": [
    {
     "data": {
      "text/plain": [
       "False"
      ]
     },
     "execution_count": 8,
     "metadata": {},
     "output_type": "execute_result"
    }
   ],
   "source": [
    "#Boolean operations\n",
    "\n",
    "True and False"
   ]
  },
  {
   "cell_type": "code",
   "execution_count": 9,
   "id": "c5147c8c",
   "metadata": {},
   "outputs": [
    {
     "data": {
      "text/plain": [
       "True"
      ]
     },
     "execution_count": 9,
     "metadata": {},
     "output_type": "execute_result"
    }
   ],
   "source": [
    "True or False"
   ]
  },
  {
   "cell_type": "markdown",
   "id": "0ae012b0",
   "metadata": {},
   "source": [
    "# Lists"
   ]
  },
  {
   "cell_type": "code",
   "execution_count": 10,
   "id": "1148b559",
   "metadata": {},
   "outputs": [
    {
     "data": {
      "text/plain": [
       "list"
      ]
     },
     "execution_count": 10,
     "metadata": {},
     "output_type": "execute_result"
    }
   ],
   "source": [
    "type([])"
   ]
  },
  {
   "cell_type": "code",
   "execution_count": 11,
   "id": "9bc9cf17",
   "metadata": {},
   "outputs": [],
   "source": [
    "lst_example=[]"
   ]
  },
  {
   "cell_type": "code",
   "execution_count": 12,
   "id": "51cee76a",
   "metadata": {},
   "outputs": [
    {
     "data": {
      "text/plain": [
       "list"
      ]
     },
     "execution_count": 12,
     "metadata": {},
     "output_type": "execute_result"
    }
   ],
   "source": [
    "type(lst_example)"
   ]
  },
  {
   "cell_type": "code",
   "execution_count": 13,
   "id": "a1b4c397",
   "metadata": {},
   "outputs": [],
   "source": [
    "#Another way of creating list\n",
    "\n",
    "lst=list()"
   ]
  },
  {
   "cell_type": "code",
   "execution_count": 14,
   "id": "a4a05a6c",
   "metadata": {},
   "outputs": [
    {
     "data": {
      "text/plain": [
       "list"
      ]
     },
     "execution_count": 14,
     "metadata": {},
     "output_type": "execute_result"
    }
   ],
   "source": [
    "type(lst)"
   ]
  },
  {
   "cell_type": "code",
   "execution_count": 15,
   "id": "db1e17c9",
   "metadata": {},
   "outputs": [],
   "source": [
    "lst=['English','Hindi',10,9,2,1.0]"
   ]
  },
  {
   "cell_type": "code",
   "execution_count": 16,
   "id": "23c7f31e",
   "metadata": {},
   "outputs": [
    {
     "data": {
      "text/plain": [
       "6"
      ]
     },
     "execution_count": 16,
     "metadata": {},
     "output_type": "execute_result"
    }
   ],
   "source": [
    "len(lst)"
   ]
  },
  {
   "cell_type": "markdown",
   "id": "3bb30f8f",
   "metadata": {},
   "source": [
    "# Append list"
   ]
  },
  {
   "cell_type": "code",
   "execution_count": 18,
   "id": "6d156bcf",
   "metadata": {},
   "outputs": [],
   "source": [
    "lst.append('Amit')"
   ]
  },
  {
   "cell_type": "code",
   "execution_count": 19,
   "id": "d4aa9315",
   "metadata": {},
   "outputs": [
    {
     "data": {
      "text/plain": [
       "['English', 'Hindi', 10, 9, 2, 1.0, 'Amit']"
      ]
     },
     "execution_count": 19,
     "metadata": {},
     "output_type": "execute_result"
    }
   ],
   "source": [
    "lst"
   ]
  },
  {
   "cell_type": "code",
   "execution_count": 20,
   "id": "dad49cc9",
   "metadata": {},
   "outputs": [
    {
     "data": {
      "text/plain": [
       "7"
      ]
     },
     "execution_count": 20,
     "metadata": {},
     "output_type": "execute_result"
    }
   ],
   "source": [
    "len(lst)"
   ]
  },
  {
   "cell_type": "code",
   "execution_count": 21,
   "id": "031052ad",
   "metadata": {},
   "outputs": [
    {
     "data": {
      "text/plain": [
       "'English'"
      ]
     },
     "execution_count": 21,
     "metadata": {},
     "output_type": "execute_result"
    }
   ],
   "source": [
    "#indexing in list\n",
    "\n",
    "lst[0]"
   ]
  },
  {
   "cell_type": "code",
   "execution_count": 22,
   "id": "1150df6d",
   "metadata": {},
   "outputs": [
    {
     "data": {
      "text/plain": [
       "['English', 'Hindi']"
      ]
     },
     "execution_count": 22,
     "metadata": {},
     "output_type": "execute_result"
    }
   ],
   "source": [
    "#Select elements in list\n",
    "#example first 2 element of list\n",
    "lst[:2]"
   ]
  },
  {
   "cell_type": "code",
   "execution_count": 23,
   "id": "4d85b90b",
   "metadata": {},
   "outputs": [
    {
     "data": {
      "text/plain": [
       "[10, 9, 2, 1.0]"
      ]
     },
     "execution_count": 23,
     "metadata": {},
     "output_type": "execute_result"
    }
   ],
   "source": [
    "#example select 3-6 element (all numeric or float numbers)\n",
    "lst[2:6]"
   ]
  },
  {
   "cell_type": "markdown",
   "id": "634b071f",
   "metadata": {},
   "source": [
    "# Insert\n"
   ]
  },
  {
   "cell_type": "code",
   "execution_count": 25,
   "id": "41e4e097",
   "metadata": {},
   "outputs": [],
   "source": [
    "lst.append('Joshi')"
   ]
  },
  {
   "cell_type": "code",
   "execution_count": 26,
   "id": "f2da3177",
   "metadata": {},
   "outputs": [
    {
     "data": {
      "text/plain": [
       "['English', 'Hindi', 10, 9, 2, 1.0, 'Amit', 'Joshi']"
      ]
     },
     "execution_count": 26,
     "metadata": {},
     "output_type": "execute_result"
    }
   ],
   "source": [
    "lst"
   ]
  },
  {
   "cell_type": "code",
   "execution_count": 27,
   "id": "9108678f",
   "metadata": {},
   "outputs": [],
   "source": [
    "lst.insert(2,'Mathematics')"
   ]
  },
  {
   "cell_type": "code",
   "execution_count": 28,
   "id": "ff67d53f",
   "metadata": {},
   "outputs": [
    {
     "data": {
      "text/plain": [
       "['English', 'Hindi', 'Mathematics', 10, 9, 2, 1.0, 'Amit', 'Joshi']"
      ]
     },
     "execution_count": 28,
     "metadata": {},
     "output_type": "execute_result"
    }
   ],
   "source": [
    "lst"
   ]
  },
  {
   "cell_type": "code",
   "execution_count": 34,
   "id": "3f1784fe",
   "metadata": {},
   "outputs": [],
   "source": [
    "lst=[1,2,3]"
   ]
  },
  {
   "cell_type": "code",
   "execution_count": 35,
   "id": "0cf1521d",
   "metadata": {},
   "outputs": [],
   "source": [
    "lst.append([9,10])"
   ]
  },
  {
   "cell_type": "code",
   "execution_count": 36,
   "id": "07159403",
   "metadata": {},
   "outputs": [
    {
     "data": {
      "text/plain": [
       "[1, 2, 3, [9, 10]]"
      ]
     },
     "execution_count": 36,
     "metadata": {},
     "output_type": "execute_result"
    }
   ],
   "source": [
    "lst"
   ]
  },
  {
   "cell_type": "code",
   "execution_count": 37,
   "id": "91b08f80",
   "metadata": {},
   "outputs": [],
   "source": [
    "lst.insert(4,4)"
   ]
  },
  {
   "cell_type": "code",
   "execution_count": 38,
   "id": "674912ad",
   "metadata": {},
   "outputs": [
    {
     "data": {
      "text/plain": [
       "[1, 2, 3, [9, 10], 4]"
      ]
     },
     "execution_count": 38,
     "metadata": {},
     "output_type": "execute_result"
    }
   ],
   "source": [
    "lst"
   ]
  },
  {
   "cell_type": "markdown",
   "id": "bb5d0811",
   "metadata": {},
   "source": [
    "# Operations we can perform in list"
   ]
  },
  {
   "cell_type": "code",
   "execution_count": 40,
   "id": "8c630a53",
   "metadata": {},
   "outputs": [],
   "source": [
    "lst=[1,2,3,4,5]"
   ]
  },
  {
   "cell_type": "code",
   "execution_count": 41,
   "id": "d8100fec",
   "metadata": {},
   "outputs": [
    {
     "data": {
      "text/plain": [
       "15"
      ]
     },
     "execution_count": 41,
     "metadata": {},
     "output_type": "execute_result"
    }
   ],
   "source": [
    "sum(lst)"
   ]
  },
  {
   "cell_type": "code",
   "execution_count": 42,
   "id": "428720d1",
   "metadata": {},
   "outputs": [
    {
     "data": {
      "text/plain": [
       "[1, 2, 3, 4, 5, 1, 2, 3, 4, 5, 1, 2, 3, 4, 5, 1, 2, 3, 4, 5, 1, 2, 3, 4, 5]"
      ]
     },
     "execution_count": 42,
     "metadata": {},
     "output_type": "execute_result"
    }
   ],
   "source": [
    "lst*5"
   ]
  },
  {
   "cell_type": "markdown",
   "id": "2a5867b7",
   "metadata": {},
   "source": [
    "# Extend Method"
   ]
  },
  {
   "cell_type": "code",
   "execution_count": 48,
   "id": "a2015779",
   "metadata": {},
   "outputs": [],
   "source": [
    "lst=[1,2,3,4,5]"
   ]
  },
  {
   "cell_type": "code",
   "execution_count": 49,
   "id": "24f47888",
   "metadata": {},
   "outputs": [],
   "source": [
    "lst.extend([6,7])"
   ]
  },
  {
   "cell_type": "code",
   "execution_count": 50,
   "id": "d21e7627",
   "metadata": {},
   "outputs": [
    {
     "data": {
      "text/plain": [
       "[1, 2, 3, 4, 5, 6, 7]"
      ]
     },
     "execution_count": 50,
     "metadata": {},
     "output_type": "execute_result"
    }
   ],
   "source": [
    "lst"
   ]
  },
  {
   "cell_type": "markdown",
   "id": "4cb17bf8",
   "metadata": {},
   "source": [
    "# Pop() Method"
   ]
  },
  {
   "cell_type": "code",
   "execution_count": 51,
   "id": "3bd39fe0",
   "metadata": {},
   "outputs": [
    {
     "data": {
      "text/plain": [
       "7"
      ]
     },
     "execution_count": 51,
     "metadata": {},
     "output_type": "execute_result"
    }
   ],
   "source": [
    "lst.pop()"
   ]
  },
  {
   "cell_type": "code",
   "execution_count": 52,
   "id": "7ba22a4c",
   "metadata": {},
   "outputs": [
    {
     "data": {
      "text/plain": [
       "[1, 2, 3, 4, 5, 6]"
      ]
     },
     "execution_count": 52,
     "metadata": {},
     "output_type": "execute_result"
    }
   ],
   "source": [
    "lst"
   ]
  },
  {
   "cell_type": "code",
   "execution_count": 53,
   "id": "2510eb49",
   "metadata": {},
   "outputs": [
    {
     "data": {
      "text/plain": [
       "4"
      ]
     },
     "execution_count": 53,
     "metadata": {},
     "output_type": "execute_result"
    }
   ],
   "source": [
    "lst.pop(3)"
   ]
  },
  {
   "cell_type": "code",
   "execution_count": null,
   "id": "5697f3b4",
   "metadata": {},
   "outputs": [],
   "source": []
  }
 ],
 "metadata": {
  "kernelspec": {
   "display_name": "dummy-aibse-dev",
   "language": "python",
   "name": "dummy-aibse-dev"
  },
  "language_info": {
   "codemirror_mode": {
    "name": "ipython",
    "version": 3
   },
   "file_extension": ".py",
   "mimetype": "text/x-python",
   "name": "python",
   "nbconvert_exporter": "python",
   "pygments_lexer": "ipython3",
   "version": "3.8.13"
  }
 },
 "nbformat": 4,
 "nbformat_minor": 5
}
